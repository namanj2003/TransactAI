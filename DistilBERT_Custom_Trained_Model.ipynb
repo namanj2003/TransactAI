{
  "nbformat": 4,
  "nbformat_minor": 0,
  "metadata": {
    "colab": {
      "provenance": [],
      "gpuType": "T4"
    },
    "kernelspec": {
      "name": "python3",
      "display_name": "Python 3"
    },
    "language_info": {
      "name": "python"
    },
    "accelerator": "GPU",
    "widgets": {
      "application/vnd.jupyter.widget-state+json": {
        "d737d928ddc24a82a169db7faff0c844": {
          "model_module": "@jupyter-widgets/controls",
          "model_name": "HBoxModel",
          "model_module_version": "1.5.0",
          "state": {
            "_dom_classes": [],
            "_model_module": "@jupyter-widgets/controls",
            "_model_module_version": "1.5.0",
            "_model_name": "HBoxModel",
            "_view_count": null,
            "_view_module": "@jupyter-widgets/controls",
            "_view_module_version": "1.5.0",
            "_view_name": "HBoxView",
            "box_style": "",
            "children": [
              "IPY_MODEL_9259d793f2ac47ae9d3e8063629b351c",
              "IPY_MODEL_a8276db3d5034f90b3b1c8cb1bd6c2de",
              "IPY_MODEL_b86d6dbe50d647d1900c4899a39a038f"
            ],
            "layout": "IPY_MODEL_e956d10b1b3c448b8cb8e195dc9e299c"
          }
        },
        "9259d793f2ac47ae9d3e8063629b351c": {
          "model_module": "@jupyter-widgets/controls",
          "model_name": "HTMLModel",
          "model_module_version": "1.5.0",
          "state": {
            "_dom_classes": [],
            "_model_module": "@jupyter-widgets/controls",
            "_model_module_version": "1.5.0",
            "_model_name": "HTMLModel",
            "_view_count": null,
            "_view_module": "@jupyter-widgets/controls",
            "_view_module_version": "1.5.0",
            "_view_name": "HTMLView",
            "description": "",
            "description_tooltip": null,
            "layout": "IPY_MODEL_71d3b3ca29764d9ba8424e9e81011896",
            "placeholder": "​",
            "style": "IPY_MODEL_5ecc922b03d1488291ee9293ada12531",
            "value": "model.safetensors: 100%"
          }
        },
        "a8276db3d5034f90b3b1c8cb1bd6c2de": {
          "model_module": "@jupyter-widgets/controls",
          "model_name": "FloatProgressModel",
          "model_module_version": "1.5.0",
          "state": {
            "_dom_classes": [],
            "_model_module": "@jupyter-widgets/controls",
            "_model_module_version": "1.5.0",
            "_model_name": "FloatProgressModel",
            "_view_count": null,
            "_view_module": "@jupyter-widgets/controls",
            "_view_module_version": "1.5.0",
            "_view_name": "ProgressView",
            "bar_style": "success",
            "description": "",
            "description_tooltip": null,
            "layout": "IPY_MODEL_0cd06593af424ce7bf9213d05ac8ba6e",
            "max": 267954768,
            "min": 0,
            "orientation": "horizontal",
            "style": "IPY_MODEL_520e3c1281534543874103202103f4b3",
            "value": 267954768
          }
        },
        "b86d6dbe50d647d1900c4899a39a038f": {
          "model_module": "@jupyter-widgets/controls",
          "model_name": "HTMLModel",
          "model_module_version": "1.5.0",
          "state": {
            "_dom_classes": [],
            "_model_module": "@jupyter-widgets/controls",
            "_model_module_version": "1.5.0",
            "_model_name": "HTMLModel",
            "_view_count": null,
            "_view_module": "@jupyter-widgets/controls",
            "_view_module_version": "1.5.0",
            "_view_name": "HTMLView",
            "description": "",
            "description_tooltip": null,
            "layout": "IPY_MODEL_59ac5c9fe9a24f1b81c1f53b14acc432",
            "placeholder": "​",
            "style": "IPY_MODEL_ff299b975a8c44dfa10956f0a8a6ab05",
            "value": " 268M/268M [00:05&lt;00:00, 38.1MB/s]"
          }
        },
        "e956d10b1b3c448b8cb8e195dc9e299c": {
          "model_module": "@jupyter-widgets/base",
          "model_name": "LayoutModel",
          "model_module_version": "1.2.0",
          "state": {
            "_model_module": "@jupyter-widgets/base",
            "_model_module_version": "1.2.0",
            "_model_name": "LayoutModel",
            "_view_count": null,
            "_view_module": "@jupyter-widgets/base",
            "_view_module_version": "1.2.0",
            "_view_name": "LayoutView",
            "align_content": null,
            "align_items": null,
            "align_self": null,
            "border": null,
            "bottom": null,
            "display": null,
            "flex": null,
            "flex_flow": null,
            "grid_area": null,
            "grid_auto_columns": null,
            "grid_auto_flow": null,
            "grid_auto_rows": null,
            "grid_column": null,
            "grid_gap": null,
            "grid_row": null,
            "grid_template_areas": null,
            "grid_template_columns": null,
            "grid_template_rows": null,
            "height": null,
            "justify_content": null,
            "justify_items": null,
            "left": null,
            "margin": null,
            "max_height": null,
            "max_width": null,
            "min_height": null,
            "min_width": null,
            "object_fit": null,
            "object_position": null,
            "order": null,
            "overflow": null,
            "overflow_x": null,
            "overflow_y": null,
            "padding": null,
            "right": null,
            "top": null,
            "visibility": null,
            "width": null
          }
        },
        "71d3b3ca29764d9ba8424e9e81011896": {
          "model_module": "@jupyter-widgets/base",
          "model_name": "LayoutModel",
          "model_module_version": "1.2.0",
          "state": {
            "_model_module": "@jupyter-widgets/base",
            "_model_module_version": "1.2.0",
            "_model_name": "LayoutModel",
            "_view_count": null,
            "_view_module": "@jupyter-widgets/base",
            "_view_module_version": "1.2.0",
            "_view_name": "LayoutView",
            "align_content": null,
            "align_items": null,
            "align_self": null,
            "border": null,
            "bottom": null,
            "display": null,
            "flex": null,
            "flex_flow": null,
            "grid_area": null,
            "grid_auto_columns": null,
            "grid_auto_flow": null,
            "grid_auto_rows": null,
            "grid_column": null,
            "grid_gap": null,
            "grid_row": null,
            "grid_template_areas": null,
            "grid_template_columns": null,
            "grid_template_rows": null,
            "height": null,
            "justify_content": null,
            "justify_items": null,
            "left": null,
            "margin": null,
            "max_height": null,
            "max_width": null,
            "min_height": null,
            "min_width": null,
            "object_fit": null,
            "object_position": null,
            "order": null,
            "overflow": null,
            "overflow_x": null,
            "overflow_y": null,
            "padding": null,
            "right": null,
            "top": null,
            "visibility": null,
            "width": null
          }
        },
        "5ecc922b03d1488291ee9293ada12531": {
          "model_module": "@jupyter-widgets/controls",
          "model_name": "DescriptionStyleModel",
          "model_module_version": "1.5.0",
          "state": {
            "_model_module": "@jupyter-widgets/controls",
            "_model_module_version": "1.5.0",
            "_model_name": "DescriptionStyleModel",
            "_view_count": null,
            "_view_module": "@jupyter-widgets/base",
            "_view_module_version": "1.2.0",
            "_view_name": "StyleView",
            "description_width": ""
          }
        },
        "0cd06593af424ce7bf9213d05ac8ba6e": {
          "model_module": "@jupyter-widgets/base",
          "model_name": "LayoutModel",
          "model_module_version": "1.2.0",
          "state": {
            "_model_module": "@jupyter-widgets/base",
            "_model_module_version": "1.2.0",
            "_model_name": "LayoutModel",
            "_view_count": null,
            "_view_module": "@jupyter-widgets/base",
            "_view_module_version": "1.2.0",
            "_view_name": "LayoutView",
            "align_content": null,
            "align_items": null,
            "align_self": null,
            "border": null,
            "bottom": null,
            "display": null,
            "flex": null,
            "flex_flow": null,
            "grid_area": null,
            "grid_auto_columns": null,
            "grid_auto_flow": null,
            "grid_auto_rows": null,
            "grid_column": null,
            "grid_gap": null,
            "grid_row": null,
            "grid_template_areas": null,
            "grid_template_columns": null,
            "grid_template_rows": null,
            "height": null,
            "justify_content": null,
            "justify_items": null,
            "left": null,
            "margin": null,
            "max_height": null,
            "max_width": null,
            "min_height": null,
            "min_width": null,
            "object_fit": null,
            "object_position": null,
            "order": null,
            "overflow": null,
            "overflow_x": null,
            "overflow_y": null,
            "padding": null,
            "right": null,
            "top": null,
            "visibility": null,
            "width": null
          }
        },
        "520e3c1281534543874103202103f4b3": {
          "model_module": "@jupyter-widgets/controls",
          "model_name": "ProgressStyleModel",
          "model_module_version": "1.5.0",
          "state": {
            "_model_module": "@jupyter-widgets/controls",
            "_model_module_version": "1.5.0",
            "_model_name": "ProgressStyleModel",
            "_view_count": null,
            "_view_module": "@jupyter-widgets/base",
            "_view_module_version": "1.2.0",
            "_view_name": "StyleView",
            "bar_color": null,
            "description_width": ""
          }
        },
        "59ac5c9fe9a24f1b81c1f53b14acc432": {
          "model_module": "@jupyter-widgets/base",
          "model_name": "LayoutModel",
          "model_module_version": "1.2.0",
          "state": {
            "_model_module": "@jupyter-widgets/base",
            "_model_module_version": "1.2.0",
            "_model_name": "LayoutModel",
            "_view_count": null,
            "_view_module": "@jupyter-widgets/base",
            "_view_module_version": "1.2.0",
            "_view_name": "LayoutView",
            "align_content": null,
            "align_items": null,
            "align_self": null,
            "border": null,
            "bottom": null,
            "display": null,
            "flex": null,
            "flex_flow": null,
            "grid_area": null,
            "grid_auto_columns": null,
            "grid_auto_flow": null,
            "grid_auto_rows": null,
            "grid_column": null,
            "grid_gap": null,
            "grid_row": null,
            "grid_template_areas": null,
            "grid_template_columns": null,
            "grid_template_rows": null,
            "height": null,
            "justify_content": null,
            "justify_items": null,
            "left": null,
            "margin": null,
            "max_height": null,
            "max_width": null,
            "min_height": null,
            "min_width": null,
            "object_fit": null,
            "object_position": null,
            "order": null,
            "overflow": null,
            "overflow_x": null,
            "overflow_y": null,
            "padding": null,
            "right": null,
            "top": null,
            "visibility": null,
            "width": null
          }
        },
        "ff299b975a8c44dfa10956f0a8a6ab05": {
          "model_module": "@jupyter-widgets/controls",
          "model_name": "DescriptionStyleModel",
          "model_module_version": "1.5.0",
          "state": {
            "_model_module": "@jupyter-widgets/controls",
            "_model_module_version": "1.5.0",
            "_model_name": "DescriptionStyleModel",
            "_view_count": null,
            "_view_module": "@jupyter-widgets/base",
            "_view_module_version": "1.2.0",
            "_view_name": "StyleView",
            "description_width": ""
          }
        }
      }
    }
  },
  "cells": [
    {
      "cell_type": "code",
      "source": [
        "!pip install transformers torch scikit-learn pandas numpy"
      ],
      "metadata": {
        "colab": {
          "base_uri": "https://localhost:8080/"
        },
        "collapsed": true,
        "id": "fswHdzYB8NXj",
        "outputId": "f5b92dd4-3b36-4615-c749-40e52c23b186"
      },
      "execution_count": 1,
      "outputs": [
        {
          "output_type": "stream",
          "name": "stdout",
          "text": [
            "Requirement already satisfied: transformers in /usr/local/lib/python3.12/dist-packages (4.57.0)\n",
            "Requirement already satisfied: torch in /usr/local/lib/python3.12/dist-packages (2.8.0+cu126)\n",
            "Requirement already satisfied: scikit-learn in /usr/local/lib/python3.12/dist-packages (1.6.1)\n",
            "Requirement already satisfied: pandas in /usr/local/lib/python3.12/dist-packages (2.2.2)\n",
            "Requirement already satisfied: numpy in /usr/local/lib/python3.12/dist-packages (2.0.2)\n",
            "Requirement already satisfied: filelock in /usr/local/lib/python3.12/dist-packages (from transformers) (3.20.0)\n",
            "Requirement already satisfied: huggingface-hub<1.0,>=0.34.0 in /usr/local/lib/python3.12/dist-packages (from transformers) (0.35.3)\n",
            "Requirement already satisfied: packaging>=20.0 in /usr/local/lib/python3.12/dist-packages (from transformers) (25.0)\n",
            "Requirement already satisfied: pyyaml>=5.1 in /usr/local/lib/python3.12/dist-packages (from transformers) (6.0.3)\n",
            "Requirement already satisfied: regex!=2019.12.17 in /usr/local/lib/python3.12/dist-packages (from transformers) (2024.11.6)\n",
            "Requirement already satisfied: requests in /usr/local/lib/python3.12/dist-packages (from transformers) (2.32.4)\n",
            "Requirement already satisfied: tokenizers<=0.23.0,>=0.22.0 in /usr/local/lib/python3.12/dist-packages (from transformers) (0.22.1)\n",
            "Requirement already satisfied: safetensors>=0.4.3 in /usr/local/lib/python3.12/dist-packages (from transformers) (0.6.2)\n",
            "Requirement already satisfied: tqdm>=4.27 in /usr/local/lib/python3.12/dist-packages (from transformers) (4.67.1)\n",
            "Requirement already satisfied: typing-extensions>=4.10.0 in /usr/local/lib/python3.12/dist-packages (from torch) (4.15.0)\n",
            "Requirement already satisfied: setuptools in /usr/local/lib/python3.12/dist-packages (from torch) (75.2.0)\n",
            "Requirement already satisfied: sympy>=1.13.3 in /usr/local/lib/python3.12/dist-packages (from torch) (1.13.3)\n",
            "Requirement already satisfied: networkx in /usr/local/lib/python3.12/dist-packages (from torch) (3.5)\n",
            "Requirement already satisfied: jinja2 in /usr/local/lib/python3.12/dist-packages (from torch) (3.1.6)\n",
            "Requirement already satisfied: fsspec in /usr/local/lib/python3.12/dist-packages (from torch) (2025.3.0)\n",
            "Requirement already satisfied: nvidia-cuda-nvrtc-cu12==12.6.77 in /usr/local/lib/python3.12/dist-packages (from torch) (12.6.77)\n",
            "Requirement already satisfied: nvidia-cuda-runtime-cu12==12.6.77 in /usr/local/lib/python3.12/dist-packages (from torch) (12.6.77)\n",
            "Requirement already satisfied: nvidia-cuda-cupti-cu12==12.6.80 in /usr/local/lib/python3.12/dist-packages (from torch) (12.6.80)\n",
            "Requirement already satisfied: nvidia-cudnn-cu12==9.10.2.21 in /usr/local/lib/python3.12/dist-packages (from torch) (9.10.2.21)\n",
            "Requirement already satisfied: nvidia-cublas-cu12==12.6.4.1 in /usr/local/lib/python3.12/dist-packages (from torch) (12.6.4.1)\n",
            "Requirement already satisfied: nvidia-cufft-cu12==11.3.0.4 in /usr/local/lib/python3.12/dist-packages (from torch) (11.3.0.4)\n",
            "Requirement already satisfied: nvidia-curand-cu12==10.3.7.77 in /usr/local/lib/python3.12/dist-packages (from torch) (10.3.7.77)\n",
            "Requirement already satisfied: nvidia-cusolver-cu12==11.7.1.2 in /usr/local/lib/python3.12/dist-packages (from torch) (11.7.1.2)\n",
            "Requirement already satisfied: nvidia-cusparse-cu12==12.5.4.2 in /usr/local/lib/python3.12/dist-packages (from torch) (12.5.4.2)\n",
            "Requirement already satisfied: nvidia-cusparselt-cu12==0.7.1 in /usr/local/lib/python3.12/dist-packages (from torch) (0.7.1)\n",
            "Requirement already satisfied: nvidia-nccl-cu12==2.27.3 in /usr/local/lib/python3.12/dist-packages (from torch) (2.27.3)\n",
            "Requirement already satisfied: nvidia-nvtx-cu12==12.6.77 in /usr/local/lib/python3.12/dist-packages (from torch) (12.6.77)\n",
            "Requirement already satisfied: nvidia-nvjitlink-cu12==12.6.85 in /usr/local/lib/python3.12/dist-packages (from torch) (12.6.85)\n",
            "Requirement already satisfied: nvidia-cufile-cu12==1.11.1.6 in /usr/local/lib/python3.12/dist-packages (from torch) (1.11.1.6)\n",
            "Requirement already satisfied: triton==3.4.0 in /usr/local/lib/python3.12/dist-packages (from torch) (3.4.0)\n",
            "Requirement already satisfied: scipy>=1.6.0 in /usr/local/lib/python3.12/dist-packages (from scikit-learn) (1.16.2)\n",
            "Requirement already satisfied: joblib>=1.2.0 in /usr/local/lib/python3.12/dist-packages (from scikit-learn) (1.5.2)\n",
            "Requirement already satisfied: threadpoolctl>=3.1.0 in /usr/local/lib/python3.12/dist-packages (from scikit-learn) (3.6.0)\n",
            "Requirement already satisfied: python-dateutil>=2.8.2 in /usr/local/lib/python3.12/dist-packages (from pandas) (2.9.0.post0)\n",
            "Requirement already satisfied: pytz>=2020.1 in /usr/local/lib/python3.12/dist-packages (from pandas) (2025.2)\n",
            "Requirement already satisfied: tzdata>=2022.7 in /usr/local/lib/python3.12/dist-packages (from pandas) (2025.2)\n",
            "Requirement already satisfied: hf-xet<2.0.0,>=1.1.3 in /usr/local/lib/python3.12/dist-packages (from huggingface-hub<1.0,>=0.34.0->transformers) (1.1.10)\n",
            "Requirement already satisfied: six>=1.5 in /usr/local/lib/python3.12/dist-packages (from python-dateutil>=2.8.2->pandas) (1.17.0)\n",
            "Requirement already satisfied: mpmath<1.4,>=1.1.0 in /usr/local/lib/python3.12/dist-packages (from sympy>=1.13.3->torch) (1.3.0)\n",
            "Requirement already satisfied: MarkupSafe>=2.0 in /usr/local/lib/python3.12/dist-packages (from jinja2->torch) (3.0.3)\n",
            "Requirement already satisfied: charset_normalizer<4,>=2 in /usr/local/lib/python3.12/dist-packages (from requests->transformers) (3.4.3)\n",
            "Requirement already satisfied: idna<4,>=2.5 in /usr/local/lib/python3.12/dist-packages (from requests->transformers) (3.10)\n",
            "Requirement already satisfied: urllib3<3,>=1.21.1 in /usr/local/lib/python3.12/dist-packages (from requests->transformers) (2.5.0)\n",
            "Requirement already satisfied: certifi>=2017.4.17 in /usr/local/lib/python3.12/dist-packages (from requests->transformers) (2025.10.5)\n"
          ]
        }
      ]
    },
    {
      "cell_type": "code",
      "source": [
        "import json\n",
        "import numpy as np\n",
        "\n",
        "# Custom JSON encoder to handle numpy types\n",
        "class NumpyEncoder(json.JSONEncoder):\n",
        "    def default(self, obj):\n",
        "        if isinstance(obj, (np.integer, np.int64, np.int32)):\n",
        "            return int(obj)\n",
        "        elif isinstance(obj, (np.floating, np.float64, np.float32)):\n",
        "            return float(obj)\n",
        "        elif isinstance(obj, np.ndarray):\n",
        "            return obj.tolist()\n",
        "        return super(NumpyEncoder, self).default(obj)\n"
      ],
      "metadata": {
        "id": "PRJ_ngPdDyx_"
      },
      "execution_count": 2,
      "outputs": []
    },
    {
      "cell_type": "code",
      "source": [
        "import pandas as pd\n",
        "import numpy as np\n",
        "import torch\n",
        "from transformers import (DistilBertTokenizerFast,DistilBertForSequenceClassification,Trainer,TrainingArguments,EarlyStoppingCallback)\n",
        "from sklearn.model_selection import train_test_split\n",
        "from sklearn.metrics import accuracy_score, f1_score, classification_report, confusion_matrix\n",
        "from sklearn.utils.class_weight import compute_class_weight\n",
        "from sklearn.preprocessing import LabelEncoder\n",
        "import json\n",
        "from datetime import datetime"
      ],
      "metadata": {
        "id": "4-AqBtZ68sOu"
      },
      "execution_count": 3,
      "outputs": []
    },
    {
      "cell_type": "code",
      "source": [
        "df = pd.read_csv('training_data_comprehensive.csv')\n",
        "print(f\"Loaded {len(df)} samples with {df['category'].nunique()} categories\")\n",
        "\n",
        "#Encoding\n",
        "label_encoder = LabelEncoder()\n",
        "df['label'] = label_encoder.fit_transform(df['category'])\n",
        "\n",
        "#mapping\n",
        "label_map = {label: int(idx) for idx, label in enumerate(label_encoder.classes_)}\n",
        "id_map = {int(idx): label for label, idx in label_map.items()}\n",
        "\n",
        "print(f\"\\nCategories: {list(label_encoder.classes_)}\")\n",
        "\n",
        "# Save mappings\n",
        "with open('model_config.json', 'w') as f:\n",
        "    json.dump({\n",
        "        'label_map': label_map,\n",
        "        'id_map': {str(k): v for k, v in id_map.items()},\n",
        "        'num_labels': len(label_map),\n",
        "        'categories': list(label_encoder.classes_)\n",
        "    }, f, indent=2)\n",
        "\n",
        "print(\"Label mappings saved to model_config.json\")"
      ],
      "metadata": {
        "colab": {
          "base_uri": "https://localhost:8080/"
        },
        "id": "e9ZYjtZw834U",
        "outputId": "08d69c77-ac25-4965-a17d-611423e56014"
      },
      "execution_count": 4,
      "outputs": [
        {
          "output_type": "stream",
          "name": "stdout",
          "text": [
            "Loaded 2040 samples with 17 categories\n",
            "\n",
            "Categories: ['Bill Payment', 'Cashback', 'EMI', 'Education', 'Entertainment', 'Fees', 'Food', 'Funds Transfer', 'Groceries', 'Healthcare', 'Income', 'Insurance', 'Others', 'Recharge', 'Shopping', 'Travel', 'Utilities']\n",
            "Label mappings saved to model_config.json\n"
          ]
        }
      ]
    },
    {
      "cell_type": "code",
      "source": [
        "\n",
        "X = df['description'].values\n",
        "y = df['label'].values\n",
        "\n",
        "X_train, X_test, y_train, y_test = train_test_split(\n",
        "    X, y, test_size=0.15, stratify=y, random_state=42\n",
        ")\n",
        "\n",
        "print(f\"Train: {len(X_train)} samples | Test: {len(X_test)} samples\")\n",
        "\n",
        "# Prepare datasets\n",
        "train_df = pd.DataFrame({'description': X_train, 'label': y_train})\n",
        "test_df = pd.DataFrame({'description': X_test, 'label': y_test})"
      ],
      "metadata": {
        "colab": {
          "base_uri": "https://localhost:8080/"
        },
        "id": "mppwQ1IF9Cac",
        "outputId": "5f7c3ca8-0dbd-444e-d5a0-9ee8cdcad808"
      },
      "execution_count": 5,
      "outputs": [
        {
          "output_type": "stream",
          "name": "stdout",
          "text": [
            "Train: 1734 samples | Test: 306 samples\n"
          ]
        }
      ]
    },
    {
      "cell_type": "code",
      "source": [
        "print(\"\\n[STEP 3/6] Computing class weights for balanced training...\")\n",
        "\n",
        "class_weights = compute_class_weight(\n",
        "    class_weight='balanced',\n",
        "    classes=np.unique(y),\n",
        "    y=y\n",
        ")\n",
        "class_weights_tensor = torch.tensor(class_weights, dtype=torch.float32)\n",
        "print(f\"Class weights computed: {class_weights.round(3)}\")"
      ],
      "metadata": {
        "colab": {
          "base_uri": "https://localhost:8080/"
        },
        "id": "fQEEQUW_9GHX",
        "outputId": "9738dafc-d926-4b74-d459-814422647eb4"
      },
      "execution_count": 6,
      "outputs": [
        {
          "output_type": "stream",
          "name": "stdout",
          "text": [
            "\n",
            "[STEP 3/6] Computing class weights for balanced training...\n",
            "Class weights computed: [1. 1. 1. 1. 1. 1. 1. 1. 1. 1. 1. 1. 1. 1. 1. 1. 1.]\n"
          ]
        }
      ]
    },
    {
      "cell_type": "code",
      "source": [
        "tokenizer = DistilBertTokenizerFast.from_pretrained(\"distilbert-base-uncased\")\n",
        "\n",
        "def tokenize_data(texts, labels):\n",
        "    encodings = tokenizer(\n",
        "        list(texts),\n",
        "        padding='max_length',\n",
        "        truncation=True,\n",
        "        max_length=32,\n",
        "        return_tensors='pt'\n",
        "    )\n",
        "    return {\n",
        "        'input_ids': encodings['input_ids'],\n",
        "        'attention_mask': encodings['attention_mask'],\n",
        "        'labels': torch.tensor(labels, dtype=torch.long)\n",
        "    }\n",
        "\n",
        "train_encodings = tokenize_data(X_train, y_train)\n",
        "test_encodings = tokenize_data(X_test, y_test)\n",
        "\n",
        "class ExpenseDataset(torch.utils.data.Dataset):\n",
        "    def __init__(self, encodings):\n",
        "        self.encodings = encodings\n",
        "\n",
        "    def __getitem__(self, idx):\n",
        "        return {\n",
        "            'input_ids': self.encodings['input_ids'][idx],\n",
        "            'attention_mask': self.encodings['attention_mask'][idx],\n",
        "            'labels': self.encodings['labels'][idx]\n",
        "        }\n",
        "\n",
        "    def __len__(self):\n",
        "        return len(self.encodings['labels'])\n",
        "\n",
        "train_dataset = ExpenseDataset(train_encodings)\n",
        "test_dataset = ExpenseDataset(test_encodings)\n",
        "\n",
        "print(f\"Tokenization complete\")"
      ],
      "metadata": {
        "colab": {
          "base_uri": "https://localhost:8080/"
        },
        "id": "GEFwk5Cy9KZz",
        "outputId": "a2f53d78-499e-44a7-c3c2-4a39ad838d1d"
      },
      "execution_count": 14,
      "outputs": [
        {
          "output_type": "stream",
          "name": "stdout",
          "text": [
            "Tokenization complete\n"
          ]
        }
      ]
    },
    {
      "cell_type": "code",
      "source": [
        "#Custom Trainer with class weights\n",
        "class WeightedTrainer(Trainer):\n",
        "    def compute_loss(self, model, inputs, return_outputs=False, num_items_in_batch=None):\n",
        "        labels = inputs.pop(\"labels\")\n",
        "        outputs = model(**inputs)\n",
        "        logits = outputs.logits\n",
        "\n",
        "        loss_fct = torch.nn.CrossEntropyLoss(weight=class_weights_tensor.to(logits.device))\n",
        "        loss = loss_fct(logits, labels)\n",
        "\n",
        "        return (loss, outputs) if return_outputs else loss\n",
        "\n",
        "model = DistilBertForSequenceClassification.from_pretrained(\n",
        "    \"distilbert-base-uncased\",\n",
        "    num_labels=len(label_map)\n",
        ")\n",
        "model.config.id2label = id_map\n",
        "model.config.label2id = label_map\n",
        "\n",
        "# Metrics function\n",
        "def compute_metrics(eval_pred):\n",
        "    predictions, labels = eval_pred\n",
        "    predictions = np.argmax(predictions, axis=1)\n",
        "    accuracy = accuracy_score(labels, predictions)\n",
        "    f1_macro = f1_score(labels, predictions, average='macro')\n",
        "    f1_weighted = f1_score(labels, predictions, average='weighted')\n",
        "    return {\n",
        "        'accuracy': accuracy,\n",
        "        'f1_macro': f1_macro,\n",
        "        'f1_weighted': f1_weighted\n",
        "    }\n",
        "\n",
        "# Training arguments\n",
        "training_args = TrainingArguments(\n",
        "    output_dir='./training_results',\n",
        "    eval_strategy='epoch',\n",
        "    save_strategy='epoch',\n",
        "    learning_rate=3e-5,\n",
        "    per_device_train_batch_size=16,\n",
        "    per_device_eval_batch_size=16,\n",
        "    num_train_epochs=15,\n",
        "    weight_decay=0.01,\n",
        "    warmup_ratio=0.1,\n",
        "    logging_dir='./logs',\n",
        "    logging_steps=20,\n",
        "    load_best_model_at_end=True,\n",
        "    metric_for_best_model='f1_macro',\n",
        "    greater_is_better=True,\n",
        "    save_total_limit=2,\n",
        "    seed=42,\n",
        "    report_to='none'\n",
        ")\n",
        "\n",
        "# Initialize trainer\n",
        "trainer = WeightedTrainer(\n",
        "    model=model,\n",
        "    args=training_args,\n",
        "    train_dataset=train_dataset,\n",
        "    eval_dataset=test_dataset,\n",
        "    processing_class=tokenizer,\n",
        "    compute_metrics=compute_metrics,\n",
        "    callbacks=[EarlyStoppingCallback(early_stopping_patience=4)]\n",
        ")\n",
        "\n",
        "print(\"\\nStarting training\")\n",
        "\n",
        "train_result = trainer.train()\n",
        "\n",
        "print(\"\\nTraining complete!\")\n",
        "print(f\"Training time: {train_result.metrics.get('train_runtime', 0):.2f} seconds\")"
      ],
      "metadata": {
        "colab": {
          "base_uri": "https://localhost:8080/",
          "height": 562,
          "referenced_widgets": [
            "d737d928ddc24a82a169db7faff0c844",
            "9259d793f2ac47ae9d3e8063629b351c",
            "a8276db3d5034f90b3b1c8cb1bd6c2de",
            "b86d6dbe50d647d1900c4899a39a038f",
            "e956d10b1b3c448b8cb8e195dc9e299c",
            "71d3b3ca29764d9ba8424e9e81011896",
            "5ecc922b03d1488291ee9293ada12531",
            "0cd06593af424ce7bf9213d05ac8ba6e",
            "520e3c1281534543874103202103f4b3",
            "59ac5c9fe9a24f1b81c1f53b14acc432",
            "ff299b975a8c44dfa10956f0a8a6ab05"
          ]
        },
        "id": "t1CmKld99SVQ",
        "outputId": "7ccfec9e-5c3c-419f-9d2e-988cef99e37d"
      },
      "execution_count": 8,
      "outputs": [
        {
          "output_type": "display_data",
          "data": {
            "text/plain": [
              "model.safetensors:   0%|          | 0.00/268M [00:00<?, ?B/s]"
            ],
            "application/vnd.jupyter.widget-view+json": {
              "version_major": 2,
              "version_minor": 0,
              "model_id": "d737d928ddc24a82a169db7faff0c844"
            }
          },
          "metadata": {}
        },
        {
          "output_type": "stream",
          "name": "stderr",
          "text": [
            "Some weights of DistilBertForSequenceClassification were not initialized from the model checkpoint at distilbert-base-uncased and are newly initialized: ['classifier.bias', 'classifier.weight', 'pre_classifier.bias', 'pre_classifier.weight']\n",
            "You should probably TRAIN this model on a down-stream task to be able to use it for predictions and inference.\n"
          ]
        },
        {
          "output_type": "stream",
          "name": "stdout",
          "text": [
            "\n",
            "Starting training\n"
          ]
        },
        {
          "output_type": "display_data",
          "data": {
            "text/plain": [
              "<IPython.core.display.HTML object>"
            ],
            "text/html": [
              "\n",
              "    <div>\n",
              "      \n",
              "      <progress value='1090' max='1635' style='width:300px; height:20px; vertical-align: middle;'></progress>\n",
              "      [1090/1635 02:38 < 01:19, 6.87 it/s, Epoch 10/15]\n",
              "    </div>\n",
              "    <table border=\"1\" class=\"dataframe\">\n",
              "  <thead>\n",
              " <tr style=\"text-align: left;\">\n",
              "      <th>Epoch</th>\n",
              "      <th>Training Loss</th>\n",
              "      <th>Validation Loss</th>\n",
              "      <th>Accuracy</th>\n",
              "      <th>F1 Macro</th>\n",
              "      <th>F1 Weighted</th>\n",
              "    </tr>\n",
              "  </thead>\n",
              "  <tbody>\n",
              "    <tr>\n",
              "      <td>1</td>\n",
              "      <td>2.612300</td>\n",
              "      <td>2.365688</td>\n",
              "      <td>0.647059</td>\n",
              "      <td>0.631225</td>\n",
              "      <td>0.631225</td>\n",
              "    </tr>\n",
              "    <tr>\n",
              "      <td>2</td>\n",
              "      <td>1.058100</td>\n",
              "      <td>0.693693</td>\n",
              "      <td>0.915033</td>\n",
              "      <td>0.915623</td>\n",
              "      <td>0.915623</td>\n",
              "    </tr>\n",
              "    <tr>\n",
              "      <td>3</td>\n",
              "      <td>0.193800</td>\n",
              "      <td>0.165540</td>\n",
              "      <td>0.970588</td>\n",
              "      <td>0.970614</td>\n",
              "      <td>0.970614</td>\n",
              "    </tr>\n",
              "    <tr>\n",
              "      <td>4</td>\n",
              "      <td>0.107600</td>\n",
              "      <td>0.098603</td>\n",
              "      <td>0.973856</td>\n",
              "      <td>0.973709</td>\n",
              "      <td>0.973709</td>\n",
              "    </tr>\n",
              "    <tr>\n",
              "      <td>5</td>\n",
              "      <td>0.046700</td>\n",
              "      <td>0.058651</td>\n",
              "      <td>0.980392</td>\n",
              "      <td>0.980349</td>\n",
              "      <td>0.980349</td>\n",
              "    </tr>\n",
              "    <tr>\n",
              "      <td>6</td>\n",
              "      <td>0.027300</td>\n",
              "      <td>0.044025</td>\n",
              "      <td>0.986928</td>\n",
              "      <td>0.986822</td>\n",
              "      <td>0.986822</td>\n",
              "    </tr>\n",
              "    <tr>\n",
              "      <td>7</td>\n",
              "      <td>0.027700</td>\n",
              "      <td>0.049130</td>\n",
              "      <td>0.986928</td>\n",
              "      <td>0.986822</td>\n",
              "      <td>0.986822</td>\n",
              "    </tr>\n",
              "    <tr>\n",
              "      <td>8</td>\n",
              "      <td>0.024100</td>\n",
              "      <td>0.086453</td>\n",
              "      <td>0.980392</td>\n",
              "      <td>0.980274</td>\n",
              "      <td>0.980274</td>\n",
              "    </tr>\n",
              "    <tr>\n",
              "      <td>9</td>\n",
              "      <td>0.012100</td>\n",
              "      <td>0.060263</td>\n",
              "      <td>0.986928</td>\n",
              "      <td>0.986822</td>\n",
              "      <td>0.986822</td>\n",
              "    </tr>\n",
              "    <tr>\n",
              "      <td>10</td>\n",
              "      <td>0.021600</td>\n",
              "      <td>0.059226</td>\n",
              "      <td>0.986928</td>\n",
              "      <td>0.986822</td>\n",
              "      <td>0.986822</td>\n",
              "    </tr>\n",
              "  </tbody>\n",
              "</table><p>"
            ]
          },
          "metadata": {}
        },
        {
          "output_type": "stream",
          "name": "stdout",
          "text": [
            "\n",
            "Training complete!\n",
            "Training time: 159.99 seconds\n"
          ]
        }
      ]
    },
    {
      "cell_type": "code",
      "source": [
        "predictions = trainer.predict(test_dataset)\n",
        "y_pred = np.argmax(predictions.predictions, axis=1)\n",
        "y_true = predictions.label_ids\n",
        "\n",
        "#Calculate metrics\n",
        "test_accuracy = accuracy_score(y_true, y_pred)\n",
        "test_f1_macro = f1_score(y_true, y_pred, average='macro')\n",
        "test_f1_weighted = f1_score(y_true, y_pred, average='weighted')\n",
        "\n",
        "print(f\"\\nOverall Accuracy: {test_accuracy:.4f} ({test_accuracy*100:.2f}%)\")\n",
        "print(f\"F1 Score (Macro): {test_f1_macro:.4f} ({test_f1_macro*100:.2f}%)\")\n",
        "print(f\"F1 Score (Weighted): {test_f1_weighted:.4f} ({test_f1_weighted*100:.2f}%)\")\n",
        "\n",
        "# Classification report\n",
        "print(\"\\n\" + classification_report(y_true, y_pred, target_names=[id_map[i] for i in range(len(id_map))], digits=4))\n",
        "\n",
        "# Per-category accuracy\n",
        "category_results = []\n",
        "for i in range(len(id_map)):\n",
        "    mask = y_true == i\n",
        "    if mask.sum() > 0:\n",
        "        cat_accuracy = (y_pred[mask] == y_true[mask]).mean()\n",
        "        category_results.append({\n",
        "            'category': id_map[i],\n",
        "            'accuracy': cat_accuracy,\n",
        "            'samples': mask.sum()\n",
        "        })\n",
        "        print(f\"{id_map[i]:20} : {cat_accuracy:.4f} ({cat_accuracy*100:.2f}%) - {mask.sum()} samples\")\n",
        "\n",
        "# Confusion matrix\n",
        "cm = confusion_matrix(y_true, y_pred)\n",
        "print(cm)"
      ],
      "metadata": {
        "colab": {
          "base_uri": "https://localhost:8080/",
          "height": 1000
        },
        "id": "2Vr1s6W__H8r",
        "outputId": "435dfa64-6226-45cf-94f4-48e861a18dac"
      },
      "execution_count": 15,
      "outputs": [
        {
          "output_type": "display_data",
          "data": {
            "text/plain": [
              "<IPython.core.display.HTML object>"
            ],
            "text/html": []
          },
          "metadata": {}
        },
        {
          "output_type": "stream",
          "name": "stdout",
          "text": [
            "\n",
            "Overall Accuracy: 0.9869 (98.69%)\n",
            "F1 Score (Macro): 0.9868 (98.68%)\n",
            "F1 Score (Weighted): 0.9868 (98.68%)\n",
            "\n",
            "                precision    recall  f1-score   support\n",
            "\n",
            "  Bill Payment     1.0000    1.0000    1.0000        18\n",
            "      Cashback     1.0000    1.0000    1.0000        18\n",
            "           EMI     1.0000    1.0000    1.0000        18\n",
            "     Education     1.0000    1.0000    1.0000        18\n",
            " Entertainment     1.0000    1.0000    1.0000        18\n",
            "          Fees     0.9444    0.9444    0.9444        18\n",
            "          Food     0.9474    1.0000    0.9730        18\n",
            "Funds Transfer     0.9474    1.0000    0.9730        18\n",
            "     Groceries     1.0000    0.9444    0.9714        18\n",
            "    Healthcare     1.0000    1.0000    1.0000        18\n",
            "        Income     1.0000    0.8889    0.9412        18\n",
            "     Insurance     1.0000    1.0000    1.0000        18\n",
            "        Others     1.0000    1.0000    1.0000        18\n",
            "      Recharge     1.0000    1.0000    1.0000        18\n",
            "      Shopping     1.0000    1.0000    1.0000        18\n",
            "        Travel     1.0000    1.0000    1.0000        18\n",
            "     Utilities     0.9474    1.0000    0.9730        18\n",
            "\n",
            "      accuracy                         0.9869       306\n",
            "     macro avg     0.9874    0.9869    0.9868       306\n",
            "  weighted avg     0.9874    0.9869    0.9868       306\n",
            "\n",
            "Bill Payment         : 1.0000 (100.00%) - 18 samples\n",
            "Cashback             : 1.0000 (100.00%) - 18 samples\n",
            "EMI                  : 1.0000 (100.00%) - 18 samples\n",
            "Education            : 1.0000 (100.00%) - 18 samples\n",
            "Entertainment        : 1.0000 (100.00%) - 18 samples\n",
            "Fees                 : 0.9444 (94.44%) - 18 samples\n",
            "Food                 : 1.0000 (100.00%) - 18 samples\n",
            "Funds Transfer       : 1.0000 (100.00%) - 18 samples\n",
            "Groceries            : 0.9444 (94.44%) - 18 samples\n",
            "Healthcare           : 1.0000 (100.00%) - 18 samples\n",
            "Income               : 0.8889 (88.89%) - 18 samples\n",
            "Insurance            : 1.0000 (100.00%) - 18 samples\n",
            "Others               : 1.0000 (100.00%) - 18 samples\n",
            "Recharge             : 1.0000 (100.00%) - 18 samples\n",
            "Shopping             : 1.0000 (100.00%) - 18 samples\n",
            "Travel               : 1.0000 (100.00%) - 18 samples\n",
            "Utilities            : 1.0000 (100.00%) - 18 samples\n",
            "[[18  0  0  0  0  0  0  0  0  0  0  0  0  0  0  0  0]\n",
            " [ 0 18  0  0  0  0  0  0  0  0  0  0  0  0  0  0  0]\n",
            " [ 0  0 18  0  0  0  0  0  0  0  0  0  0  0  0  0  0]\n",
            " [ 0  0  0 18  0  0  0  0  0  0  0  0  0  0  0  0  0]\n",
            " [ 0  0  0  0 18  0  0  0  0  0  0  0  0  0  0  0  0]\n",
            " [ 0  0  0  0  0 17  0  0  0  0  0  0  0  0  0  0  1]\n",
            " [ 0  0  0  0  0  0 18  0  0  0  0  0  0  0  0  0  0]\n",
            " [ 0  0  0  0  0  0  0 18  0  0  0  0  0  0  0  0  0]\n",
            " [ 0  0  0  0  0  0  1  0 17  0  0  0  0  0  0  0  0]\n",
            " [ 0  0  0  0  0  0  0  0  0 18  0  0  0  0  0  0  0]\n",
            " [ 0  0  0  0  0  1  0  1  0  0 16  0  0  0  0  0  0]\n",
            " [ 0  0  0  0  0  0  0  0  0  0  0 18  0  0  0  0  0]\n",
            " [ 0  0  0  0  0  0  0  0  0  0  0  0 18  0  0  0  0]\n",
            " [ 0  0  0  0  0  0  0  0  0  0  0  0  0 18  0  0  0]\n",
            " [ 0  0  0  0  0  0  0  0  0  0  0  0  0  0 18  0  0]\n",
            " [ 0  0  0  0  0  0  0  0  0  0  0  0  0  0  0 18  0]\n",
            " [ 0  0  0  0  0  0  0  0  0  0  0  0  0  0  0  0 18]]\n"
          ]
        }
      ]
    },
    {
      "cell_type": "code",
      "source": [
        "#Save Model\n",
        "model.save_pretrained(\"expense_model_distilbert\")\n",
        "tokenizer.save_pretrained(\"expense_model_distilbert\")\n",
        "\n",
        "print(\"Model saved to: expense_model_distilbert/\")\n",
        "\n",
        "# Save test results\n",
        "test_results = {\n",
        "    'test_accuracy': float(test_accuracy),\n",
        "    'test_f1_macro': float(test_f1_macro),\n",
        "    'test_f1_weighted': float(test_f1_weighted),\n",
        "    'category_results': category_results,\n",
        "    'training_time': train_result.metrics.get('train_runtime', 0),\n",
        "    'total_samples': int(len(df)),\n",
        "    'accuracy': float(cat_accuracy),\n",
        "    'train_samples': len(X_train),\n",
        "    'test_samples': len(X_test),\n",
        "    'num_categories': len(label_map)\n",
        "}\n",
        "\n",
        "with open('test_results.json', 'w') as f:\n",
        "    json.dump(test_results, f, indent=2, cls=NumpyEncoder)\n",
        "\n",
        "print(\"Test results saved to: test_results.json\")"
      ],
      "metadata": {
        "colab": {
          "base_uri": "https://localhost:8080/"
        },
        "id": "NfWWucVFBmlS",
        "outputId": "b0aae9a6-562f-436e-ea22-64a754c93898"
      },
      "execution_count": 16,
      "outputs": [
        {
          "output_type": "stream",
          "name": "stdout",
          "text": [
            "Model saved to: expense_model_distilbert/\n",
            "Test results saved to: test_results.json\n"
          ]
        }
      ]
    },
    {
      "cell_type": "code",
      "execution_count": 11,
      "metadata": {
        "colab": {
          "base_uri": "https://localhost:8080/"
        },
        "id": "RcaU7Y1GvW_m",
        "outputId": "5a0175c6-aeb9-4f53-e913-b3ff4342158f"
      },
      "outputs": [
        {
          "output_type": "stream",
          "name": "stdout",
          "text": [
            "Model is on: cuda:0\n",
            "\n",
            "Testing model with real-world transaction descriptions:\n",
            "\n",
            "UPI/SWIGGY                     → Food            (Confidence: 99.38%)\n",
            "NETFLIX MONTHLY                → Entertainment   (Confidence: 99.46%)\n",
            "LIC PREMIUM                    → Insurance       (Confidence: 99.41%)\n",
            "UPI/AMAZON                     → Shopping        (Confidence: 98.39%)\n",
            "SALARY CREDIT                  → Income          (Confidence: 99.44%)\n",
            "TATA POWER                     → Utilities       (Confidence: 99.13%)\n",
            "JIO RECHARGE                   → Recharge        (Confidence: 98.94%)\n",
            "UPI/OLA                        → Travel          (Confidence: 99.13%)\n",
            "UPI/DMART                      → Groceries       (Confidence: 99.35%)\n",
            "SCHOOL FEE PAYMENT             → Education       (Confidence: 99.50%)\n",
            "HOME LOAN EMI                  → EMI             (Confidence: 99.45%)\n",
            "UPI/APOLLO PHARMACY            → Healthcare      (Confidence: 99.55%)\n",
            "UPI/FLIPKART                   → Shopping        (Confidence: 99.44%)\n",
            "INTEREST CREDIT                → Income          (Confidence: 99.43%)\n",
            "YOUTUBE PREMIUM                → Entertainment   (Confidence: 99.47%)\n"
          ]
        }
      ],
      "source": [
        "test_transactions = [\n",
        "    \"UPI/SWIGGY\",\n",
        "    \"NETFLIX MONTHLY\",\n",
        "    \"LIC PREMIUM\",\n",
        "    \"UPI/AMAZON\",\n",
        "    \"SALARY CREDIT\",\n",
        "    \"TATA POWER\",\n",
        "    \"JIO RECHARGE\",\n",
        "    \"UPI/OLA\",\n",
        "    \"UPI/DMART\",\n",
        "    \"SCHOOL FEE PAYMENT\",\n",
        "    \"HOME LOAN EMI\",\n",
        "    \"UPI/APOLLO PHARMACY\",\n",
        "    \"UPI/FLIPKART\",\n",
        "    \"INTEREST CREDIT\",\n",
        "    \"YOUTUBE PREMIUM\"\n",
        "]\n",
        "\n",
        "# Get model's device\n",
        "device = next(model.parameters()).device\n",
        "print(f\"Model is on: {device}\")\n",
        "\n",
        "model.eval()\n",
        "\n",
        "print(\"\\nTesting model with real-world transaction descriptions:\\n\")\n",
        "for transaction in test_transactions:\n",
        "    inputs = tokenizer(\n",
        "        transaction,\n",
        "        return_tensors='pt',\n",
        "        padding='max_length',\n",
        "        truncation=True,\n",
        "        max_length=32\n",
        "    )\n",
        "\n",
        "    # Move inputs to same device as model\n",
        "    inputs = {k: v.to(device) for k, v in inputs.items()}\n",
        "\n",
        "    with torch.no_grad():\n",
        "        outputs = model(**inputs)\n",
        "        probs = torch.softmax(outputs.logits, dim=-1)[0]\n",
        "        predicted_idx = probs.argmax().item()\n",
        "        confidence = probs[predicted_idx].item()\n",
        "        predicted_category = id_map[predicted_idx]\n",
        "\n",
        "    print(f\"{transaction:30} → {predicted_category:15} (Confidence: {confidence:.2%})\")\n"
      ]
    },
    {
      "cell_type": "code",
      "source": [
        "print(f\"\\nModel: DistilBERT for Sequence Classification\")\n",
        "print(f\"Total Training Samples: {len(X_train)}\")\n",
        "print(f\"Total Test Samples: {len(X_test)}\")\n",
        "print(f\"Number of Categories: {len(label_map)}\")\n",
        "print(f\"Test Accuracy: {test_accuracy*100:.2f}%\")\n",
        "print(f\"F1 Score (Macro): {test_f1_macro*100:.2f}%\")\n",
        "print(f\"Model saved to: expense_model_distilbert/\")\n",
        "print(f\"\\nTraining pipeline completed successfully!\")"
      ],
      "metadata": {
        "colab": {
          "base_uri": "https://localhost:8080/"
        },
        "id": "naxw9JdQD_2d",
        "outputId": "07a438c7-8e6f-4428-cea3-8bab168d3a25"
      },
      "execution_count": 12,
      "outputs": [
        {
          "output_type": "stream",
          "name": "stdout",
          "text": [
            "\n",
            "Model: DistilBERT for Sequence Classification\n",
            "Total Training Samples: 1734\n",
            "Total Test Samples: 306\n",
            "Number of Categories: 17\n",
            "Test Accuracy: 98.69%\n",
            "F1 Score (Macro): 98.68%\n",
            "Model saved to: expense_model_distilbert/\n",
            "\n",
            "Training pipeline completed successfully!\n"
          ]
        }
      ]
    },
    {
      "cell_type": "code",
      "metadata": {
        "colab": {
          "base_uri": "https://localhost:8080/"
        },
        "id": "b736d5df",
        "outputId": "b8639b87-2c16-4979-fe93-f01dcbc706d8"
      },
      "source": [
        "!zip -r expense_model_distilbert.zip expense_model_distilbert"
      ],
      "execution_count": 13,
      "outputs": [
        {
          "output_type": "stream",
          "name": "stdout",
          "text": [
            "  adding: expense_model_distilbert/ (stored 0%)\n",
            "  adding: expense_model_distilbert/tokenizer_config.json (deflated 75%)\n",
            "  adding: expense_model_distilbert/vocab.txt (deflated 53%)\n",
            "  adding: expense_model_distilbert/special_tokens_map.json (deflated 42%)\n",
            "  adding: expense_model_distilbert/tokenizer.json (deflated 71%)\n",
            "  adding: expense_model_distilbert/config.json (deflated 55%)\n",
            "  adding: expense_model_distilbert/model.safetensors (deflated 8%)\n"
          ]
        }
      ]
    },
    {
      "cell_type": "code",
      "source": [],
      "metadata": {
        "id": "pxafyOiLdnRU"
      },
      "execution_count": 13,
      "outputs": []
    }
  ]
}